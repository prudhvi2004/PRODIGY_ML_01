{
  "cells": [
    {
      "cell_type": "code",
      "execution_count": null,
      "metadata": {
        "id": "LCSmvpFvK7qH"
      },
      "outputs": [],
      "source": []
    },
    {
      "cell_type": "code",
      "execution_count": 1,
      "metadata": {
        "colab": {
          "base_uri": "https://localhost:8080/"
        },
        "id": "NSYdAwkeNVJm",
        "outputId": "9984b5da-9b82-4431-e427-220628dafed4"
      },
      "outputs": [
        {
          "output_type": "stream",
          "name": "stdout",
          "text": [
            "Mean Squared Error: 1600000000.0004423\n",
            "Coefficients: [    700.  -40000. -220000.]\n",
            "Intercept: -250000.00000002212\n"
          ]
        }
      ],
      "source": [
        "import numpy as np\n",
        "from sklearn.model_selection import train_test_split\n",
        "from sklearn.linear_model import LinearRegression\n",
        "from sklearn.metrics import mean_squared_error\n",
        "\n",
        "\n",
        "square_footage = np.array([1000, 1500, 1200, 1700, 900]).reshape(-1, 1)\n",
        "bedrooms = np.array([2, 3, 2, 4, 1]).reshape(-1, 1)\n",
        "bathrooms = np.array([1, 2, 1.5, 2.5, 1]).reshape(-1, 1)\n",
        "prices = np.array([150000, 200000, 180000, 230000, 120000])\n",
        "\n",
        "\n",
        "features = np.concatenate((square_footage, bedrooms, bathrooms), axis=1)\n",
        "\n",
        "\n",
        "X_train, X_test, y_train, y_test = train_test_split(features, prices, test_size=0.2, random_state=42)\n",
        "\n",
        "\n",
        "model = LinearRegression()\n",
        "model.fit(X_train, y_train)\n",
        "\n",
        "\n",
        "predictions = model.predict(X_test)\n",
        "\n",
        "mse = mean_squared_error(y_test, predictions)\n",
        "print(\"Mean Squared Error:\", mse)\n",
        "\n",
        "print(\"Coefficients:\", model.coef_)\n",
        "\n",
        "\n",
        "print(\"Intercept:\", model.intercept_)\n",
        "\n"
      ]
    },
    {
      "cell_type": "code",
      "execution_count": null,
      "metadata": {
        "id": "yK-J5BDpHd3_"
      },
      "outputs": [],
      "source": []
    },
    {
      "cell_type": "code",
      "execution_count": null,
      "metadata": {
        "id": "t8ZqybkkHhIG"
      },
      "outputs": [],
      "source": []
    },
    {
      "cell_type": "code",
      "execution_count": null,
      "metadata": {
        "id": "wmZMwv0-Hj5p"
      },
      "outputs": [],
      "source": []
    }
  ],
  "metadata": {
    "colab": {
      "provenance": []
    },
    "kernelspec": {
      "display_name": "Python 3",
      "name": "python3"
    },
    "language_info": {
      "name": "python"
    }
  },
  "nbformat": 4,
  "nbformat_minor": 0
}